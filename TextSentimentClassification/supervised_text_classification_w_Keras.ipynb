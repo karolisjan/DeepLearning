{
 "cells": [
  {
   "cell_type": "markdown",
   "metadata": {},
   "source": [
    "# Supervised Text Classification\n",
    "\n",
    "Classification of the sentiment in [IMDB movie reviews](https://ai.stanford.edu/~amaas/data/sentiment/) with a Neural Network (built with Keras and a custom wrapper).\n",
    "\n",
    "<a id='index'></a>\n",
    "## Index\n",
    "\n",
    "- [Data preprocessing](#preprocessing)\n",
    "- [Neural Network with Keras](#classifier)\n",
    "    - [Feature extraction](#feature_extraction)\n",
    "    - [Cross-validation](#cross_validation)"
   ]
  },
  {
   "cell_type": "markdown",
   "metadata": {},
   "source": [
    "<a id='preprocessing'></a>\n",
    "## Data preprocessing"
   ]
  },
  {
   "cell_type": "code",
   "execution_count": 1,
   "metadata": {
    "collapsed": true
   },
   "outputs": [],
   "source": [
    "%load_ext autoreload"
   ]
  },
  {
   "cell_type": "code",
   "execution_count": 2,
   "metadata": {},
   "outputs": [
    {
     "name": "stdout",
     "output_type": "stream",
     "text": [
      "Number of training examples: 25000\n",
      "Number of test examples: 25000\n",
      "\n"
     ]
    }
   ],
   "source": [
    "%autoreload\n",
    "from preprocessing import preprocess\n",
    "\n",
    "IMDB_MOVIE_REVIEWS_ROOT = 'aclImdb'\n",
    "\n",
    "train_data, test_data = preprocess(IMDB_MOVIE_REVIEWS_ROOT)\n",
    "\n",
    "print(\"Number of training examples: %d\" % len(train_data))\n",
    "print(\"Number of test examples: %d\\n\" % len(test_data))\n",
    "\n",
    "print(train_data.head(5))"
   ]
  },
  {
   "cell_type": "markdown",
   "metadata": {},
   "source": [
    "<a id='classifier'></a>\n",
    "## Neural Network with Keras\n",
    "\n",
    "The following classifier is based on a Neural Network built with a custom wrapper for [Keras](https://keras.io/) deep learning library. The custom wrapper (made by me) has the basic sklearn signatures such as *fit*, *predict*, and *score* which allow for an easy interaction with the rest of sklearn tools, e.g. [GridSearchCV](http://scikit-learn.org/stable/modules/generated/sklearn.model_selection.GridSearchCV.html), [cross_val_score](http://scikit-learn.org/stable/modules/generated/sklearn.model_selection.cross_val_score.html) etc.\n",
    "\n",
    "<a id='feature_extraction'></a>\n",
    "### Feature extraction\n",
    "\n",
    "[back to index](#index)"
   ]
  },
  {
   "cell_type": "code",
   "execution_count": 14,
   "metadata": {},
   "outputs": [
    {
     "name": "stdout",
     "output_type": "stream",
     "text": [
      "X_train shape:  (25000, 1000)\n",
      "y_train shape:  (25000, 2)\n",
      "X_test shape:  (25000, 1000)\n",
      "y_test shape:  (25000, 2)\n"
     ]
    }
   ],
   "source": [
    "import numpy as np\n",
    "from sklearn.feature_extraction.text import TfidfVectorizer\n",
    "   \n",
    "\n",
    "vectorizer, one_hot_enc = TfidfVectorizer(max_features=1000), OneHotEncoder()\n",
    "\n",
    "X_train = vectorizer.fit_transform(train_data['review']).toarray()\n",
    "y_train = np.reshape(train_data['sentiment'].values, (len(train_data), 1))\n",
    "y_train = one_hot_enc.fit_transform(y_train).toarray()  \n",
    "\n",
    "print(\"X_train shape: \", X_train.shape)\n",
    "print(\"y_train shape: \", y_train.shape)\n",
    "\n",
    "X_test = vectorizer.transform(test_data['review']).toarray()\n",
    "y_test = np.reshape(test_data['sentiment'].values, (len(test_data), 1))\n",
    "y_test = one_hot_enc.transform(y_test).toarray()  \n",
    "\n",
    "print(\"X_test shape: \", X_test.shape)\n",
    "print(\"y_test shape: \", y_test.shape)"
   ]
  },
  {
   "cell_type": "code",
   "execution_count": 38,
   "metadata": {},
   "outputs": [],
   "source": [
    "%autoreload\n",
    "from custom_keras_wrapper import KerasClassifier\n",
    "\n",
    "'''\n",
    "# The default achitecture/structure of the Neural Network is defined in the custom_keras_wrapper.py as default\n",
    "# Custom achitectures/structures can be pass via structure parameter in the KerasClassifier constructor\n",
    "\n",
    "DEFAULT = [(Dense, {'units' : 512, \n",
    "                    'activation' : 'relu'}), \n",
    "           (Dropout, {'rate' : 0.5}), \n",
    "           (Dense, {'activation' : 'softmax'})]\n",
    "'''\n",
    "\n",
    "classifier = KerasClassifier(batch_size=1000,\n",
    "                             epochs=100,\n",
    "                             optimizer='rmsprop')"
   ]
  },
  {
   "cell_type": "markdown",
   "metadata": {},
   "source": [
    "<a id='cross_validation'></a>\n",
    "### Cross-validation\n",
    "\n",
    "[back to index](#index)"
   ]
  },
  {
   "cell_type": "code",
   "execution_count": 39,
   "metadata": {},
   "outputs": [
    {
     "name": "stdout",
     "output_type": "stream",
     "text": [
      "4192/5000 [========================>.....] - ETA: 0s\n",
      "\n",
      "Cross-Validation (CV) results:\n",
      "\n",
      "Min test score: 78.04% \t\t\t\t<- worst case\n",
      "Max test score: 86.58% \t\t\t\t<- best case\n",
      "Mean test score: 81.74% +- 6.93% (95% conf.) \t<- expected performance\n",
      "\n",
      "95/100 times the test score will be in range 74.81-88.67%\n"
     ]
    }
   ],
   "source": [
    "from sklearn.model_selection import cross_val_score\n",
    "\n",
    "%autoreload\n",
    "from validation import report_results\n",
    "\n",
    "cv_scores = cross_val_score(classifier, X_train, y_train, cv=5)\n",
    "\n",
    "print(\"\\n\")\n",
    "report_results(cv_scores)"
   ]
  },
  {
   "cell_type": "code",
   "execution_count": 40,
   "metadata": {},
   "outputs": [
    {
     "name": "stdout",
     "output_type": "stream",
     "text": [
      "24576/25000 [============================>.] - ETA: 0s\n",
      "\n",
      "Test score: 86.52%\n"
     ]
    },
    {
     "data": {
      "image/png": "[encoded data removed]",
      "text/plain": [
       "<matplotlib.figure.Figure at 0x272170e68d0>"
      ]
     },
     "metadata": {},
     "output_type": "display_data"
    }
   ],
   "source": [
    "%autoreload\n",
    "from validation import plot_confusion_matrix\n",
    "\n",
    "classifier.fit(X_train, y_train)\n",
    "\n",
    "print(\"\\n\\nTest score: %.2f%%\" % (100 * classifier.score(X_test, y_test)))\n",
    "\n",
    "y_test_pred = classifier.predict(X_test)\n",
    "y_test_pred = [np.argmax(predictions) for predictions in y_test_pred]\n",
    "\n",
    "plot_confusion_matrix([np.argmax(_) for _ in y_test], y_test_pred)"
   ]
  },
  {
   "cell_type": "code",
   "execution_count": null,
   "metadata": {
    "collapsed": true
   },
   "outputs": [],
   "source": []
  }
 ],
 "metadata": {
  "kernelspec": {
   "display_name": "Python 3",
   "language": "python",
   "name": "python3"
  },
  "language_info": {
   "codemirror_mode": {
    "name": "ipython",
    "version": 3
   },
   "file_extension": ".py",
   "mimetype": "text/x-python",
   "name": "python",
   "nbconvert_exporter": "python",
   "pygments_lexer": "ipython3",
   "version": "3.5.3"
  }
 },
 "nbformat": 4,
 "nbformat_minor": 2
}
