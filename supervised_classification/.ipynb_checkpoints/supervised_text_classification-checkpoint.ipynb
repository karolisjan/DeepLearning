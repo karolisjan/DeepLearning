{
 "cells": [
  {
   "cell_type": "markdown",
   "metadata": {},
   "source": [
    "# Supervised Text Classification\n",
    "\n",
    "Classification of the sentiment in [IMDB movie reviews](https://ai.stanford.edu/~amaas/data/sentiment/) with a Logistic Regression on a TF-IDF matrix.\n",
    "\n",
    "<a id='index'></a>\n",
    "## Index\n",
    "\n",
    "- [Data preprocessing](#preprocessing)\n",
    "- [Training a classifier](#classifier)\n",
    "- [Validation](#validation)"
   ]
  },
  {
   "cell_type": "markdown",
   "metadata": {},
   "source": [
    "<a id='preprocessing'></a>\n",
    "## Data preprocessing"
   ]
  },
  {
   "cell_type": "code",
   "execution_count": 1,
   "metadata": {
    "collapsed": true
   },
   "outputs": [],
   "source": [
    "%load_ext autoreload"
   ]
  },
  {
   "cell_type": "code",
   "execution_count": 2,
   "metadata": {},
   "outputs": [
    {
     "name": "stdout",
     "output_type": "stream",
     "text": [
      "Number of training examples: 25000\n",
      "Number of test examples: 25000\n",
      "\n",
      "The first 5 reviews from the training set:\n",
      "\n",
      "                                              review  sentiment\n",
      "0  Bromwell High is a cartoon comedy. It ran at t...          1\n",
      "1  Homelessness (or Houselessness as George Carli...          1\n",
      "2  Brilliant over-acting by Lesley Ann Warren. Be...          1\n",
      "3  This is easily the most underrated film inn th...          1\n",
      "4  This is not the typical Mel Brooks film. It wa...          1\n",
      "\n",
      "The first 5 reviews from the test set:\n",
      "\n",
      "                                              review  sentiment\n",
      "0  I went and saw this movie last night after bei...          1\n",
      "1  Actor turned director Bill Paxton follows up h...          1\n",
      "2  As a recreational golfer with some knowledge o...          1\n",
      "3  I saw this film in a sneak preview, and it is ...          1\n",
      "4  Bill Paxton has taken the true story of the 19...          1\n"
     ]
    }
   ],
   "source": [
    "%autoreload\n",
    "from preprocessing import preprocess\n",
    "\n",
    "IMDB_MOVIE_REVIEWS_ROOT = 'aclImdb'\n",
    "\n",
    "train_data, test_data = preprocess(IMDB_MOVIE_REVIEWS_ROOT)\n",
    "\n",
    "print(\"Number of training examples: %d\" % len(train_data))\n",
    "print(\"Number of test examples: %d\\n\" % len(test_data))\n",
    "\n",
    "print(\"The first 5 reviews from the training set:\\n\")\n",
    "print(train_data.head(5))\n",
    "\n",
    "print(\"\\nThe first 5 reviews from the test set:\\n\")\n",
    "print(test_data.head(5))"
   ]
  },
  {
   "cell_type": "code",
   "execution_count": 3,
   "metadata": {},
   "outputs": [
    {
     "name": "stdout",
     "output_type": "stream",
     "text": [
      "This movie is terrible but it has some good effects.\n",
      "\n",
      "['movie', 'terrible', 'good', 'effects']\n",
      "\n",
      "['movi', 'terribl', 'good', 'effect']\n",
      "\n",
      "['movie', 'terrible', 'good', 'effect']\n",
      "\n"
     ]
    }
   ],
   "source": [
    "%autoreload\n",
    "from preprocessing import clean, tokenize, tokenize_n_stem, tokenize_n_lemmatize\n",
    "\n",
    "# Get the shortest review\n",
    "raw_review = min(train_data['review'].values, key=len)\n",
    "\n",
    "print(\"%s\\n\" % raw_review)\n",
    "\n",
    "# Test tokenize function\n",
    "print(\"%r\\n\" % tokenize(clean(raw_review)))\n",
    "\n",
    "# Test tokenize_n_stem function\n",
    "print(\"%r\\n\" % tokenize_n_stem(clean(raw_review)))\n",
    "\n",
    "# Test tokenize_n_lemmatize function\n",
    "print(\"%r\\n\" % tokenize_n_lemmatize(clean(raw_review)))"
   ]
  },
  {
   "cell_type": "markdown",
   "metadata": {},
   "source": [
    "<a id='classifier'></a>\n",
    "## Training a classifier\n",
    "\n",
    "[back to index](#index)\n",
    "\n",
    "Grid Search is combined with cross-validation (k = 10) to identify the best combination parameters.\n",
    "\n",
    "- Documentation for GridSearchCV can be found [here](http://scikit-learn.org/stable/modules/generated/sklearn.model_selection.GridSearchCV.html)\n",
    "- Documentation for Pipeline can be found [here](http://scikit-learn.org/stable/modules/generated/sklearn.pipeline.Pipeline.html)\n",
    "- Documentation for TfidfVectorizer can be found [here](http://scikit-learn.org/stable/modules/generated/sklearn.feature_extraction.text.TfidfVectorizer.html)\n",
    "- Documentation for LogisticRegression can be found [here](http://scikit-learn.org/stable/modules/generated/sklearn.linear_model.LogisticRegression.html)"
   ]
  },
  {
   "cell_type": "code",
   "execution_count": 6,
   "metadata": {},
   "outputs": [
    {
     "data": {
      "text/plain": [
       "GridSearchCV(cv=10, error_score='raise',\n",
       "       estimator=Pipeline(steps=[('vectorizer', TfidfVectorizer(analyzer='word', binary=False, decode_error='strict',\n",
       "        dtype=<class 'numpy.int64'>, encoding='utf-8', input='content',\n",
       "        lowercase=True, max_df=1.0, max_features=None, min_df=1,\n",
       "        ngram_range=(1, 1), norm='l2', preprocessor=None, smooth_idf=Tr...nalty='l2', random_state=7, solver='liblinear', tol=0.0001,\n",
       "          verbose=0, warm_start=False))]),\n",
       "       fit_params={}, iid=True, n_jobs=3,\n",
       "       param_grid=[{'vectorizer__tokenizer': [<function tokenize at 0x000001FAAF877620>, <function tokenize_n_stem at 0x000001FAAF8776A8>], 'vectorizer__max_df': [0.8, 1.0], 'classifier__C': [1.0, 10.0, 100.0], 'classifier__penalty': ['l1', 'l2']}],\n",
       "       pre_dispatch='2*n_jobs', refit=True, return_train_score=True,\n",
       "       scoring='accuracy', verbose=0)"
      ]
     },
     "execution_count": 6,
     "metadata": {},
     "output_type": "execute_result"
    }
   ],
   "source": [
    "from sklearn.pipeline import Pipeline\n",
    "from sklearn.model_selection import GridSearchCV\n",
    "from sklearn.linear_model import LogisticRegression\n",
    "from sklearn.feature_extraction.text import TfidfVectorizer\n",
    "\n",
    "RANDOM_STATE = 7\n",
    "\n",
    "vectorizer = TfidfVectorizer()\n",
    "classifier = LogisticRegression(random_state=RANDOM_STATE)\n",
    "\n",
    "pipeline = Pipeline([('vectorizer', vectorizer),\n",
    "                     ('classifier', classifier)])\n",
    "\n",
    "params = [{'vectorizer__tokenizer' : [tokenize, tokenize_n_stem],\n",
    "           'vectorizer__max_df' : [0.8, 1.0],\n",
    "           'classifier__C' : [1.0, 10.0, 100.0],\n",
    "           'classifier__penalty' : ['l1', 'l2']}]\n",
    "\n",
    "grid_search = GridSearchCV(pipeline,\n",
    "                           params,\n",
    "                           scoring='accuracy',\n",
    "                           cv=10,\n",
    "                           n_jobs=3)\n",
    "\n",
    "grid_search.fit(train_data['review'].values, train_data['sentiment'].values)"
   ]
  },
  {
   "cell_type": "markdown",
   "metadata": {},
   "source": [
    "<a id='validation'></a>\n",
    "## Validation\n",
    "\n",
    "[back to index](#index)"
   ]
  },
  {
   "cell_type": "code",
   "execution_count": 11,
   "metadata": {},
   "outputs": [
    {
     "name": "stdout",
     "output_type": "stream",
     "text": [
      "Best parameters set found on development set:\n",
      "\n",
      " {'vectorizer__tokenizer': <function tokenize at 0x000001FAAF877620>, 'vectorizer__max_df': 0.8, 'classifier__C': 1.0, 'classifier__penalty': 'l1'}\n",
      "\n",
      "CV score: 86.76%\n",
      "Test score: 87.95%\n",
      "\n",
      "Test classification report:\n",
      "\n",
      "\n",
      "             precision    recall  f1-score   support\n",
      "\n",
      "          0       0.89      0.87      0.88     12500\n",
      "          1       0.87      0.89      0.88     12500\n",
      "\n",
      "avg / total       0.88      0.88      0.88     25000\n",
      "\n"
     ]
    },
    {
     "data": {
      "image/png": "[encoded data removed]",
      "text/plain": [
       "<matplotlib.figure.Figure at 0x1faafa78080>"
      ]
     },
     "metadata": {},
     "output_type": "display_data"
    }
   ],
   "source": [
    "import os\n",
    "from sklearn.externals import joblib\n",
    "from sklearn.metrics import classification_report\n",
    "\n",
    "%autoreload\n",
    "from validation import plot_confusion_matrix, visualise_predictions\n",
    "\n",
    "best_classifier = grid_search.best_estimator_\n",
    "\n",
    "best_params = grid_search.best_params_\n",
    "y_test_hat = best_classifier.predict(test_data['review'].values)\n",
    "\n",
    "print(\"Best parameters set found on development set:\\n\\n\", best_params)\n",
    "\n",
    "print(\"\\nCV score: %.2f%%\" % (grid_search.best_score_ * 100))\n",
    "print(\"Test score: %.2f%%\" % (best_classifier.score(test_data['review'].values, test_data['sentiment'].values) * 100))\n",
    "\n",
    "print(\"\\nTest classification report:\\n\\n\")\n",
    "print(classification_report(test_data['sentiment'].values, y_test_hat))\n",
    "\n",
    "plot_confusion_matrix(test_data['sentiment'], y_test_hat, title='Test confusion matrix')\n",
    "#visualise_predictions(test_data['review'].values, test_data['sentiment'].values, y_test_hat)"
   ]
  },
  {
   "cell_type": "code",
   "execution_count": 15,
   "metadata": {},
   "outputs": [
    {
     "data": {
      "text/plain": [
       "['best_classifier/tfidf_logreg_pipeline.pkl']"
      ]
     },
     "execution_count": 15,
     "metadata": {},
     "output_type": "execute_result"
    }
   ],
   "source": [
    "# Pickle the best classifier\n",
    "save_to_dir = 'best_classifier'\n",
    "if not os.path.exists(save_to_dir):\n",
    "    os.mkdir(save_to_dir)\n",
    "joblib.dump(best_classifier, '%s/tfidf_logreg_pipeline.pkl' % save_to_dir, compress=1)"
   ]
  },
  {
   "cell_type": "code",
   "execution_count": null,
   "metadata": {
    "collapsed": true
   },
   "outputs": [],
   "source": []
  }
 ],
 "metadata": {
  "kernelspec": {
   "display_name": "Python 3",
   "language": "python",
   "name": "python3"
  },
  "language_info": {
   "codemirror_mode": {
    "name": "ipython",
    "version": 3
   },
   "file_extension": ".py",
   "mimetype": "text/x-python",
   "name": "python",
   "nbconvert_exporter": "python",
   "pygments_lexer": "ipython3",
   "version": "3.5.3"
  }
 },
 "nbformat": 4,
 "nbformat_minor": 2
}
